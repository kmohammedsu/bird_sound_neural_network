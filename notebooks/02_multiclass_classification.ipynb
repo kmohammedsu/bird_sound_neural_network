{
 "cells": [
  {
   "cell_type": "markdown",
   "metadata": {},
   "source": [
    "# Multi-Class Classification: Bird Sound Neural Network\n",
    "\n",
    "This notebook builds and evaluates a convolutional neural network (CNN) to distinguish between all 12 bird species using spectrogram data.\n"
   ]
  },
  {
   "cell_type": "code",
   "execution_count": null,
   "metadata": {},
   "outputs": [],
   "source": [
    "# 1. Load Data\n",
    "\n",
    "import h5py\n",
    "import numpy as np\n",
    "\n",
    "with h5py.File('data/bird_spectrograms_splits.hdf5', 'r') as f:\n",
    "    X_train = f['X_train'][:]\n",
    "    y_train = f['y_train'][:]\n",
    "    X_val = f['X_val'][:]\n",
    "    y_val = f['y_val'][:]\n",
    "    X_test = f['X_test'][:]\n",
    "    y_test = f['y_test'][:]\n",
    "\n",
    "print(f\"Train: {X_train.shape}, Validation: {X_val.shape}, Test: {X_test.shape}\")\n",
    "num_classes = len(np.unique(y_train))\n",
    "print(f\"Number of classes: {num_classes}\")\n"
   ]
  },
  {
   "cell_type": "markdown",
   "metadata": {},
   "source": [
    "## 2. Visualize Example Spectrograms\n"
   ]
  }
 ],
 "metadata": {
  "language_info": {
   "name": "python"
  }
 },
 "nbformat": 4,
 "nbformat_minor": 2
}
